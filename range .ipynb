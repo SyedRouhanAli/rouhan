{
 "cells": [
  {
   "cell_type": "code",
   "execution_count": 2,
   "metadata": {},
   "outputs": [
    {
     "name": "stdout",
     "output_type": "stream",
     "text": [
      "12\n",
      "12\n",
      "100\n",
      "30\n",
      "130\n"
     ]
    }
   ],
   "source": [
    "for x in range(10):\n",
    "    n= int(input())\n",
    "    m= int(input())\n",
    "    sum=n+m\n",
    "    if sum >100:\n",
    "        break\n",
    "print(sum)  "
   ]
  },
  {
   "cell_type": "code",
   "execution_count": null,
   "metadata": {},
   "outputs": [],
   "source": [
    "emp = []\n",
    "gEmp = []\n",
    "bEmp = []\n",
    "\n",
    "flag = True\n",
    "while flag:\n",
    "        employee = input(\"enter the employee name to be added\")\n",
    "        \n",
    "        if emp==\"q\":\n",
    "            flag = False\n",
    "            emp.append(employee)\n",
    "print(\"the employee in the list are: \" + emp)             "
   ]
  },
  {
   "cell_type": "code",
   "execution_count": null,
   "metadata": {},
   "outputs": [],
   "source": []
  }
 ],
 "metadata": {
  "kernelspec": {
   "display_name": "Python 3",
   "language": "python",
   "name": "python3"
  },
  "language_info": {
   "codemirror_mode": {
    "name": "ipython",
    "version": 3
   },
   "file_extension": ".py",
   "mimetype": "text/x-python",
   "name": "python",
   "nbconvert_exporter": "python",
   "pygments_lexer": "ipython3",
   "version": "3.7.4"
  }
 },
 "nbformat": 4,
 "nbformat_minor": 2
}
