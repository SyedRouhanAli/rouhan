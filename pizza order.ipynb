{
 "cells": [
  {
   "cell_type": "code",
   "execution_count": 1,
   "metadata": {},
   "outputs": [
    {
     "name": "stdout",
     "output_type": "stream",
     "text": [
      "enter size od pizzalarge\n",
      "enter flavourtikka\n",
      "enter toppingsolive\n",
      "already added\n",
      "your order of pizza with size large and flavour tikka with topping ['olive'] is ready\n",
      "enter toppingscheese\n",
      "already added\n",
      "your order of pizza with size large and flavour tikka with topping ['olive', 'cheese'] is ready\n",
      "enter toppingsq\n",
      "your order of pizza with size large and flavour tikka with topping ['olive', 'cheese'] is ready\n"
     ]
    }
   ],
   "source": [
    "availabletoppings = [\"olive\", \"cheese\"]\n",
    "usertopping = []\n",
    "size = input(\"enter size od pizza\")\n",
    "flavour = input(\"enter flavour\")\n",
    "flag=True\n",
    "while flag:\n",
    "    topping = input(\"enter toppings\")\n",
    "    if topping==\"q\":\n",
    "        flag=False\n",
    "    elif topping in availabletoppings:\n",
    "        usertopping.append(topping)\n",
    "        if topping in usertopping:\n",
    "            print(\"already added\")\n",
    "    print(f\"your order of pizza with size {size} and flavour {flavour} with topping {usertopping} is ready\")\n",
    "\n",
    "                "
   ]
  },
  {
   "cell_type": "code",
   "execution_count": null,
   "metadata": {},
   "outputs": [],
   "source": []
  },
  {
   "cell_type": "code",
   "execution_count": null,
   "metadata": {},
   "outputs": [],
   "source": []
  }
 ],
 "metadata": {
  "kernelspec": {
   "display_name": "Python 3",
   "language": "python",
   "name": "python3"
  },
  "language_info": {
   "codemirror_mode": {
    "name": "ipython",
    "version": 3
   },
   "file_extension": ".py",
   "mimetype": "text/x-python",
   "name": "python",
   "nbconvert_exporter": "python",
   "pygments_lexer": "ipython3",
   "version": "3.7.4"
  }
 },
 "nbformat": 4,
 "nbformat_minor": 2
}
