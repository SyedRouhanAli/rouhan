{
 "cells": [
  {
   "cell_type": "code",
   "execution_count": 3,
   "metadata": {},
   "outputs": [
    {
     "name": "stdout",
     "output_type": "stream",
     "text": [
      "syed rouhan\n",
      "syed ali\n",
      "syed azfar\n",
      "syed rouhan\n",
      "syed ali\n",
      "syed azfar\n",
      "syed rouhan\n",
      "syed ali\n",
      "syed azfar\n"
     ]
    }
   ],
   "source": [
    "firstname = [\"syed\" , \"syed\" , \"syed\"]\n",
    "lastname = [\"rouhan\" , \"ali\" , \"azfar\"]\n",
    "for fname in firstname:\n",
    "    for lname in lastname:\n",
    "        print(f\"{fname} {lname}\")"
   ]
  },
  {
   "cell_type": "code",
   "execution_count": 4,
   "metadata": {},
   "outputs": [
    {
     "name": "stdout",
     "output_type": "stream",
     "text": [
      "enter table number of your choice4\n",
      "4 * 1 = 4\n",
      "4 * 2 = 8\n",
      "4 * 3 = 12\n",
      "4 * 4 = 16\n",
      "4 * 5 = 20\n",
      "4 * 6 = 24\n",
      "4 * 7 = 28\n",
      "4 * 8 = 32\n",
      "4 * 9 = 36\n",
      "4 * 10 = 40\n"
     ]
    }
   ],
   "source": [
    "tnum = int(input(\"enter table number of your choice\"))\n",
    "for num in range(1,11):\n",
    "    print(f\"{tnum} * {num} = {tnum*num}\")\n",
    "    \n",
    "    "
   ]
  },
  {
   "cell_type": "code",
   "execution_count": null,
   "metadata": {},
   "outputs": [],
   "source": [
    "tnums = int(input(\"enter table number of your choice\"))\n",
    "for tnum in range(tnums):\n",
    "    for count in range(1,11):\n",
    "        print(f\"{tnum} * {count} = {tnum*count}\")"
   ]
  },
  {
   "cell_type": "code",
   "execution_count": null,
   "metadata": {},
   "outputs": [],
   "source": [
    "initialtnum = int(input(\"startof tables\"))\n",
    "finaltnum = int(input(\"end of tables\"))\n",
    "for tnum in range(initialtnum,finaltnum+1):\n",
    "    print(\"********\")\n",
    "    for count in range(1,11):\n",
    "        print(f\"{tnum} * {count} = {tnum*count}\")\n",
    "        "
   ]
  },
  {
   "cell_type": "code",
   "execution_count": null,
   "metadata": {},
   "outputs": [],
   "source": []
  },
  {
   "cell_type": "code",
   "execution_count": null,
   "metadata": {},
   "outputs": [],
   "source": []
  }
 ],
 "metadata": {
  "kernelspec": {
   "display_name": "Python 3",
   "language": "python",
   "name": "python3"
  },
  "language_info": {
   "codemirror_mode": {
    "name": "ipython",
    "version": 3
   },
   "file_extension": ".py",
   "mimetype": "text/x-python",
   "name": "python",
   "nbconvert_exporter": "python",
   "pygments_lexer": "ipython3",
   "version": "3.7.4"
  }
 },
 "nbformat": 4,
 "nbformat_minor": 2
}
