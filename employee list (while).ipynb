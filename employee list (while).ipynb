{
 "cells": [
  {
   "cell_type": "code",
   "execution_count": 8,
   "metadata": {},
   "outputs": [
    {
     "name": "stdout",
     "output_type": "stream",
     "text": [
      "enter the employee name to be addedsdfh\n",
      "enter the employee name to be addedsfghf\n",
      "enter the employee name to be addedvg\n",
      "enter the employee name to be addedskjk\n",
      "enter the employee name to be addedahh\n",
      "enter the employee name to be addedq\n",
      "the employee in the list are:  ['sdfh', 'sfghf', 'vg', 'skjk', 'ahh']\n",
      "sdfh\n",
      "sfghf\n",
      "vg\n",
      "skjk\n",
      "ahh\n"
     ]
    }
   ],
   "source": [
    "emp = []\n",
    "gEmp = []\n",
    "bEmp = []\n",
    "\n",
    "flag = True\n",
    "while flag:\n",
    "        employee = input(\"enter the employee name to be added\")\n",
    "        \n",
    "        if employee==\"q\":\n",
    "            flag = False\n",
    "        else:\n",
    "            emp.append(employee)\n",
    "            \n",
    "print(\"the employee in the list are: \" , emp) \n",
    "\n",
    "for i in emp:\n",
    "    print(i)"
   ]
  },
  {
   "cell_type": "code",
   "execution_count": 9,
   "metadata": {},
   "outputs": [
    {
     "name": "stdout",
     "output_type": "stream",
     "text": [
      "['sdfh', 'sfghf', 'skjk']\n"
     ]
    }
   ],
   "source": [
    "for i in emp:\n",
    "    if i.startswith('s'):\n",
    "        gEmp.append(i)\n",
    "    else:\n",
    "        bEmp.append(i)\n",
    "print(gEmp)"
   ]
  },
  {
   "cell_type": "code",
   "execution_count": 10,
   "metadata": {},
   "outputs": [
    {
     "name": "stdout",
     "output_type": "stream",
     "text": [
      "['vg', 'ahh']\n"
     ]
    }
   ],
   "source": [
    "print(bEmp)"
   ]
  },
  {
   "cell_type": "code",
   "execution_count": 12,
   "metadata": {},
   "outputs": [
    {
     "ename": "SyntaxError",
     "evalue": "invalid syntax (<ipython-input-12-2b2ce165e56a>, line 4)",
     "output_type": "error",
     "traceback": [
      "\u001b[1;36m  File \u001b[1;32m\"<ipython-input-12-2b2ce165e56a>\"\u001b[1;36m, line \u001b[1;32m4\u001b[0m\n\u001b[1;33m    if i.startswith('0<50')\u001b[0m\n\u001b[1;37m                           ^\u001b[0m\n\u001b[1;31mSyntaxError\u001b[0m\u001b[1;31m:\u001b[0m invalid syntax\n"
     ]
    }
   ],
   "source": [
    "     "
   ]
  },
  {
   "cell_type": "code",
   "execution_count": null,
   "metadata": {},
   "outputs": [],
   "source": []
  }
 ],
 "metadata": {
  "kernelspec": {
   "display_name": "Python 3",
   "language": "python",
   "name": "python3"
  },
  "language_info": {
   "codemirror_mode": {
    "name": "ipython",
    "version": 3
   },
   "file_extension": ".py",
   "mimetype": "text/x-python",
   "name": "python",
   "nbconvert_exporter": "python",
   "pygments_lexer": "ipython3",
   "version": "3.7.4"
  }
 },
 "nbformat": 4,
 "nbformat_minor": 2
}
